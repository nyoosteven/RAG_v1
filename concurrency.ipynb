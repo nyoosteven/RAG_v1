{
 "cells": [
  {
   "cell_type": "code",
   "execution_count": 1,
   "metadata": {},
   "outputs": [
    {
     "name": "stderr",
     "output_type": "stream",
     "text": [
      "100%|██████████| 22/22 [03:24<00:00,  9.28s/it]\n",
      "100%|██████████| 22/22 [03:30<00:00,  9.56s/it]\n"
     ]
    }
   ],
   "source": [
    "import sys\n",
    "import os\n",
    "import time\n",
    "sys.path.append('utils')\n",
    "from utils.query_engine import MultiDocumentQueryEngine\n",
    "from utils.retriever import MultiDocumentRetriever\n",
    "from threading import Thread\n",
    "\n",
    "top_agent_query_engine = None\n",
    "top_agent_retriever = None\n",
    "response = None\n",
    "nodes = None\n",
    "\n",
    "def query_engine():\n",
    "    global top_agent_query_engine\n",
    "    multiDocumentEngine = MultiDocumentQueryEngine()\n",
    "    multiDocumentEngine.build_query_engine(html_folder='data/pdf',\n",
    "                                           nodes_folder='data/nodes',\n",
    "                                           summary_folder='data/summary')\n",
    "    top_agent_query_engine = multiDocumentEngine.multi_documents_query_engine()\n",
    "\n",
    "\n",
    "def retriever():\n",
    "    global top_agent_retriever\n",
    "    multiDocumentRetriever = MultiDocumentRetriever()\n",
    "    top_agent_retriever = multiDocumentRetriever.build_retriever(html_folder='data/pdf',\n",
    "                                                                 nodes_folder='data/nodes',\n",
    "                                                                 summary_folder='data/summary')\n",
    "\n",
    "def qe_query(query:str):\n",
    "    global response\n",
    "    response = top_agent_query_engine.query(query)\n",
    "\n",
    "def retriever_retrieve(query:str):\n",
    "    global nodes\n",
    "    nodes = top_agent_retriever.retrieve(query)\n",
    "\n",
    "# Start query engine and retriever\n",
    "function1 = Thread(target=query_engine)\n",
    "function2 = Thread(target=retriever)\n",
    "function1.start()\n",
    "function2.start()\n",
    "function1.join()\n",
    "function2.join()\n",
    "\n",
    "# Start query and retrieve op"
   ]
  },
  {
   "cell_type": "code",
   "execution_count": 4,
   "metadata": {},
   "outputs": [
    {
     "name": "stdout",
     "output_type": "stream",
     "text": [
      "STARTING TURN 1\n",
      "---------------\n",
      "\n",
      "=== Calling Function ===\n",
      "Calling function: tool_batavia_usd_balanced_asia with args: {\"input\":\"minimum and maximum percentages for investment in equity securities\"}\n",
      "STARTING TURN 1\n",
      "---------------\n",
      "\n",
      "=== Calling Function ===\n",
      "Calling function: batavia_usd_balanced_asia_prospektus with args: {\"input\":\"minimum and maximum percentages for investment in equity securities\"}\n",
      "Got output: The minimum percentage for investment in equity securities is 1% and the maximum percentage is 30%.\n",
      "========================\n",
      "\n",
      "STARTING TURN 2\n",
      "---------------\n",
      "\n",
      "Got output: The minimum percentage for investment in equity securities is 1% and the maximum percentage is 30%.\n",
      "========================\n",
      "\n",
      "STARTING TURN 2\n",
      "---------------\n",
      "\n",
      "The minimum percentage for investment in equity securities for BATAVIA USD BALANCED ASIA is 1%, and the maximum percentage is 30%.\n",
      "batavia_usd_balanced_asia_prospektus-node-395\n",
      "batavia_usd_balanced_asia_prospektus-node-140\n",
      "batavia_usd_balanced_asia_prospektus-node-394\n",
      "batavia_usd_balanced_asia_prospektus-node-745\n",
      "batavia_usd_balanced_asia_prospektus-node-746\n",
      "batavia_usd_balanced_asia_prospektus-node-397\n",
      "batavia_usd_balanced_asia_prospektus-node-777\n",
      "batavia_usd_balanced_asia_prospektus-node-396\n",
      "batavia_usd_balanced_asia_prospektus-node-156\n",
      "batavia_usd_balanced_asia_prospektus-node-3\n"
     ]
    }
   ],
   "source": [
    "query = 'What are the minimum and maximum percentages for investment in equity securities for BATAVIA USD BALANCED ASIA about batavia usd balanced asia ?'\n",
    "function3 = Thread(target=qe_query, args=(query,))\n",
    "function4 = Thread(target=retriever_retrieve, args=(query,))\n",
    "function3.start()\n",
    "function4.start()\n",
    "function3.join()\n",
    "function4.join()\n",
    "\n",
    "print(response.response)\n",
    "for node in nodes:\n",
    "    print(node.node_id)"
   ]
  }
 ],
 "metadata": {
  "kernelspec": {
   "display_name": "python310_v2",
   "language": "python",
   "name": "python3"
  },
  "language_info": {
   "codemirror_mode": {
    "name": "ipython",
    "version": 3
   },
   "file_extension": ".py",
   "mimetype": "text/x-python",
   "name": "python",
   "nbconvert_exporter": "python",
   "pygments_lexer": "ipython3",
   "version": "3.10.13"
  }
 },
 "nbformat": 4,
 "nbformat_minor": 2
}
